{
 "cells": [
  {
   "cell_type": "markdown",
   "id": "9dede001",
   "metadata": {},
   "source": [
    "# CHSH inequality\n",
    "\n",
    "-------\n",
    "## 📘 पृष्ठभूमि (Background)\n",
    "\n",
    "In this tutorial, we'll run an experiment on a quantum computer to demonstrate the violation of the CHSH inequality with the Estimator primitive.\n",
    "\n",
    "The CHSH inequality, named after the arthors Clauser, Home, Shimony, and Holt, is used to experimentally prove Bell's theorem (1969). This theorem asserts that local hidden variable in quantum mechanics. The violation of the CHSH inequality is used to show that quantum mechanics is incompatible with local hidden-variable theories. This is an important experment for understanding the foundation of quantum mechanics. \n",
    "\n",
    "The 2022 Nobel Prize for Physics was awarded to Alain Aspect, John Clauser and Anton Zeilinger in part for their pioneering work in quantum information science, and in particular, for their experiments woth entangled photons demonstrating violation of Bell's inequalties.\n",
    "\n",
    "इस tutorial में हम एक quantum computer पर experiment करेंगे! 🔬 हमारा goal है CHSH inequality का violation दिखाना—with the help of Estimator primitive. 💡\n",
    "\n",
    "👉 CHSH inequality, जिसका नाम Clauser, Horne, Shimony, और Holt के नाम पर है, एक important तरीका है जिससे हम Bell's theorem को experimentally prove करते हैं। Bell का theorem कहता है कि quantum duniya में “local hidden variables” काम नहीं करते।\n",
    "\n",
    "🧪 CHSH inequality का violation ये बताता है कि quantum mechanics classical सोच से अलग है। यही तो इसकी खास बात है!\n",
    "\n",
    "🎖️ 2022 का नोबेल पुरस्कार (भौतिकी के क्षेत्र में) Alain Aspect, John Clauser, और Anton Zeilinger को दिया गया था, खासतौर पर उनके quantum information science में अग्रणी कार्य के लिए। उन्होंने entangled photons (जुड़े हुए फोटॉनों) पर जो प्रयोग किए, उन्होंने Bell's inequalities का उल्लंघन दिखाया. \n",
    "***\n",
    "\n",
    "## 🧰 Requirements\n",
    "\n",
    "इस experiment के लिए आपको चाहिए:\n",
    "\n",
    "* Qiskit SDK 1.X or more\n",
    "* Qiskit Runtime (pip install qiskit-ibm-runtime) 0.22 or later\n",
    "* Visulization suppport ('qiskit[visualization'])\n",
    "  \n",
    "  ****\n",
    "\n",
    "  ## Setup\n",
    "  \n",
    "\n"
   ]
  },
  {
   "cell_type": "code",
   "execution_count": 1,
   "id": "bf1070f4",
   "metadata": {},
   "outputs": [],
   "source": [
    "# General\n",
    "import numpy as np\n",
    "\n",
    "# Qiskit imports\n",
    "from qiskit import QuantumCircuit\n",
    "from qiskit.circuit import Parameter\n",
    "from qiskit.quantum_info import SparsePauliOp\n",
    "from qiskit.transpiler.preset_passmanagers import generate_preset_pass_manager\n",
    "\n",
    "# Qiskit Runtime imports\n",
    "from qiskit_ibm_runtime import QiskitRuntimeService\n",
    "from qiskit_ibm_runtime import EstimatorV2 as Estimator\n",
    "\n",
    "# Plotting routines\n",
    "import matplotlib.pyplot as plt\n",
    "import matplotlib.ticker as tck"
   ]
  },
  {
   "cell_type": "markdown",
   "id": "ee5ef5f3",
   "metadata": {},
   "source": [
    "### Step 1: Map classical inputs to a quantum problem\n",
    "###        🎯 Classical दुनिया से Quantum circuit में mapping 🎯\n",
    "For this experiment, we will create an entangled pair on which we measure each qubit on two different bases. We will label the bases for the first qubit A and a and the bases for the second qubit B and b. \n",
    "\n",
    "हम बनाएँगे एक entangled qubit pair और उन्हें दो अलग-अलग measurement bases में measure करेंगे:\n",
    "\n",
    "- First qubit की bases: A और a\n",
    "- Second qubit की bases: B और b\n",
    "\n",
    "This allows us to compute the CHSH quantity $S_1$ :\n",
    "\n",
    "$S_1 = A(B - b) + a(B + b).$\n",
    "\n",
    "Each observable is either +1 or -1. Clearly, one of the terms B &plusmn; b must be 0, and the other must be &plusmn;2. Therefore, \n",
    "Observables होंगे +1 या -1 , तो एक term होगा 0 और दूसरा ±2 इसलिए:\n",
    "\n",
    "The average value of $S_1$ must satisfy the inequality:\n",
    "$$\n",
    "|\\langle S_1 \\rangle| \\leq 2\n",
    "$$\n",
    "\n",
    "Expanding S<sub>1</sub> in terms of A, a, B, and b results in:\n",
    "\n",
    "$$\n",
    "|\\langle S_1 \\rangle| = |\\langle AB \\rangle - \\langle Ab \\rangle + \\langle aB \\rangle + \\langle ab \\rangle| \\leq 2\n",
    "\n",
    "$$\n",
    "\n",
    "You can define another CHSH quantity S<sub>2</sub> :\n",
    "\n",
    "$$ S_2 = A(B + b) - a(B - b) , $$ \n",
    "\n",
    "This leads to another inequality:\n",
    "\n",
    "$$\n",
    "|\\langle S_2 \\rangle| = |\\langle AB \\rangle + \\langle Ab \\rangle - \\langle aB \\rangle + \\langle ab \\rangle | \\leq 2\n",
    "$$\n",
    "\n",
    "If quantum mechanics can be described by local hidden variable thiories, the previous inequalities must hold true. However, as is demonstrated in this notebook, these inequalities can be violated in a quantum computer. Therefore, quantum mechanics is not compatible with local hidden variable theories.\n",
    "\n",
    "अगर quantum duniya में सब कुछ local hidden variables से समझाया जा सकता हो, तो ये inequalities हमेशा valid होंगी ✅\n",
    "\n",
    "पर हम साबित करेंगे कि ऐसा नहीं है! Quantum computer में इन inequalities को violate किया जा सकता है 🚀\n",
    "\n",
    "We'll create an entangled pair between two qubits in a quantum computer by creating the Bell state \n",
    "$$\n",
    "|\\Phi^+\\rangle = \\frac{|00\\rangle + |11\\rangle}{\\sqrt{2}}\n",
    "$$\n",
    "\n",
    "Using the Estimator primitive, we can directly obtain the expectation values needed \n",
    "\n",
    "🛠️ Estimator primitive का उपयोग ये हमें सीधे expectation values देता है:\n",
    "\n",
    "($\\langle AB \\rangle$, $\\langle Ab \\rangle$, $\\langle aB \\rangle$, and $\\langle ab \\rangle$) to calculate the expectation values of the two CHSH quantities\n",
    "($\\langle S_1 \\rangle$ and $\\langle S_2 \\rangle$).\n",
    "Before the introduction of the Estimator primitive, we would have to construct the expection values from the measurement outcomes.\n",
    "\n",
    "पहले हमें ये manually करना पड़ता था—अब Estimator से life आसान है 😄\n",
    "\n",
    "### 🎛️ Measurement Angle Sweep \n",
    "We'll measure the second qubit in Z and X bases. The first qubit will be measured also in orthogonal bases, bur with and angle with respect to the second qubit, which we are going to sweep between 0 and $ 2\\pi $. As we'll see, the Estimator primitive makes running parameterized circuits very easy. Rather than creating a series of CHSH circuits, we only need to create one CHSH circuit with a parameter specifying the measurement angle and a series of phase values for the parameter.\n",
    "\n",
    "Second qubit को measure करेंगे Z और X bases में 🔄\n",
    "\n",
    "First qubit को measure करेंगे orthogonal bases में—with an angle sweep from 0 to $2π$\n",
    "\n",
    "Rather than multiple circuits, Estimator lets us use one parameterized CHSH circuit—और बस angles बदलते रहो! 🔁\n",
    "\n",
    "### 📈 Results & Analysis\n",
    "Finally, we'll analyze the results and plot them against the measurement angle. We'll see that for certain range of measurement angles, the expaction values of CHSH quantities $ |\\langle S_1 \\rangle | \\gt 2 $ or $ |\\langle S_2 \\rangle | \\gt 2$,\n",
    "which demonstrate the violation of the CHSH inequality.\n",
    "\n",
    "हम plot करेंगे expectation values vs. measurement angle 📊 और देखेंगे कि कुछ angles पर:\n",
    "$ |\\langle S_1 \\rangle| > 2  या  |\\langle S_2 \\rangle| > 2 $\n",
    "यानी violation मिल गया—that's the CHSH magic! 🌈🧠\n",
    "\n",
    "\n",
    "\n",
    "\n",
    "\n"
   ]
  },
  {
   "cell_type": "code",
   "execution_count": 2,
   "id": "97b3f3bf",
   "metadata": {},
   "outputs": [
    {
     "name": "stdout",
     "output_type": "stream",
     "text": [
      "[<IBMBackend('ibm_brisbane')>, <IBMBackend('ibm_sherbrooke')>, <IBMBackend('ibm_torino')>]\n"
     ]
    },
    {
     "data": {
      "text/plain": [
       "'ibm_torino'"
      ]
     },
     "execution_count": 2,
     "metadata": {},
     "output_type": "execute_result"
    }
   ],
   "source": [
    "# To run of hardware, select the backend woth the fewest number of jobs in the queue\n",
    "from qiskit_ibm_runtime import QiskitRuntimeService\n",
    "service = QiskitRuntimeService(channel=\"ibm_cloud\")\n",
    "\n",
    "QiskitRuntimeService.save_account(\n",
    "    channel=\"ibm_cloud\",\n",
    "    token=\"QDcOPHdQw2So98jLrsy7gjR-hnNa6oPDZ4sPHV0bxBW1\",\n",
    "    instance=\"instance_satya\",\n",
    "    overwrite=True\n",
    ")\n",
    "\n",
    "\n",
    "print(service.backends())\n",
    "\n",
    "backend = service.least_busy(\n",
    "    operational = True, simulator = False, min_num_qubits=127 \n",
    ")\n",
    "backend.name"
   ]
  },
  {
   "cell_type": "markdown",
   "id": "e2d13745",
   "metadata": {},
   "source": [
    "### 🎛️ Parameterized CHSH Circuit बनाएँ (Create a Parameterized CHSH Circuit)\n",
    "\n",
    "First, we write the circuit with the parameter $\\theta$, which we call *theta*. The Estimator primitive can enormously simplify circuit building and output analysis by directly providing expectation values of observables. Many problems of interest, especially for near-term applications on noisy systems, can be formulated in terms of exoectation values. Estimator (V2) primitive can automatically chabge measurement basis based on the supplied observable.\n",
    "\n",
    "इस सेक्शन में हम एक ऐसा circuit डिज़ाइन करेंगे जिसमें एक parameter θ (theta) होगा। Estimator primitive observables के expectation values सीधे निकालने में मदद करता है, और V2 version automatically measurement basis को observable के हिसाब से adjust कर देता है! 😎\n",
    "\n",
    "मुख्य Steps:\n",
    "- Bell state तैयार करना (H + CX) — दो qubits को entangle करना  \n",
    "- पहले qubit पर θ angle के साथ basis rotation डालना (RY rotation)  \n",
    "- दूसरे qubit को X-basis में मापने के लिए H gate apply करना  \n",
    "- Barrier डालकर circuit को logical segments में विभाजित करना  \n",
    "\n",
    "Estimator primitive हमें चार observables के expectation values (⟨AB⟩, ⟨Ab⟩, ⟨aB⟩, ⟨ab⟩) सीधे देता है। फिर इनसे हम CHSH quantities ⟨S₁⟩ और ⟨S₂⟩ निकालकर measurement angle के साथ plot कर सकते हैं।  \n",
    "\n",
    "एक ही parameterized circuit में θ बदलते हुए पूरा angle sweep करना बिलकुल आसान हो जाता है—कोई अलग-अलग CHSH circuits बनाने की ज़रूरत नहीं! 🚀\n"
   ]
  },
  {
   "cell_type": "code",
   "execution_count": 3,
   "id": "6eb1430b",
   "metadata": {},
   "outputs": [
    {
     "data": {
      "image/png": "[encoded data removed]",
      "text/plain": [
       "<Figure size 370.906x200.667 with 1 Axes>"
      ]
     },
     "execution_count": 3,
     "metadata": {},
     "output_type": "execute_result"
    }
   ],
   "source": [
    "theta = Parameter(\"$\\\\theta$\")\n",
    "\n",
    "chsh_circuit = QuantumCircuit(2)\n",
    "chsh_circuit.h(0)\n",
    "chsh_circuit.cx(0, 1)\n",
    "chsh_circuit.ry(theta, 0)\n",
    "chsh_circuit.draw(output=\"mpl\", idle_wires=False, style=\"iqp\")\n"
   ]
  },
  {
   "cell_type": "markdown",
   "id": "3662c155",
   "metadata": {},
   "source": [
    "### 📑 Phase Values की लिस्ट बनाएँ (Create a List of Phase Values to Assign Later)\n",
    "\n",
    "After creating the parameterized CHSH circuit, we'll creat a list of phase values to be assigned to the circuit in the next step. We can use the following code to create a list of 21 phase values range from 0 to 2 $\\pi$ with equal spacing, that is, $0, 0.1\\pi, 0.2\\pi, ....,1.9\\pi, 2\\pi$. \n",
    "\n",
    "इस step में हम θ parameter के लिए 21 अलग-अलग phase values बनाएँगे, जो 0 से 2π तक बराबर-बराबर फैलें हों:\n",
    "\n",
    "- शुरुआत: 0  \n",
    "- अंत: 2π  \n",
    "- कुल steps: 21 (0, 0.1π, 0.2π, …, 1.9π, 2π)  \n",
    "- हर step की spacing: $ (\\tfrac{2\\pi - 0}{20} = 0.1\\pi) $\n",
    "\n",
    "इन phase values से हम पूरे angle sweep में circuit में θ बदलेंगे और CHSH quantities (⟨S₁⟩, ⟨S₂⟩) के expectation values को मापकर plot करेंगे। 🚀\n",
    "\n",
    "---\n"
   ]
  },
  {
   "cell_type": "code",
   "execution_count": 4,
   "id": "fcf0650d",
   "metadata": {},
   "outputs": [],
   "source": [
    "number_of_phases = 21\n",
    "phases = np.linspace(0, 2 * np.pi, number_of_phases)\n",
    "# Phases need to be expressed as list of lists in order\n",
    "individual_phases = [[ph] for ph in phases]"
   ]
  },
  {
   "cell_type": "markdown",
   "id": "29862448",
   "metadata": {},
   "source": [
    "### Observables\n",
    "\n",
    "Now we need observables from which to compute the expectation values. In our case we are looking at orthogonal bases for each qubit, letting the parameterized Y- rotation for the first qubit sweep the measurement basis nearly continuously with respect to the second qubit basis. We will therefore choose the observables ZZ, ZX, XZ, and XX.\n",
    "\n",
    "### 👀 Observables चुनें (Observables)\n",
    "\n",
    "अब हम उन observables को define करेंगे जिनसे हमें expectation values मिलेंगी। हमारे experiment में हम दोनों qubits के लिए orthogonal bases में measurements कर रहे हैं, जहाँ first qubit पे parameterized Y-rotation से basis sweep होगा और second qubit के लिए Z/X bases फिक्स रहेंगे।  \n",
    "\n",
    "इसलिए हम चुनते हैं ये चार observables:\n",
    "\n",
    "- **Z Z**: दोनों qubits को Z-basis में measure करना  \n",
    "- **Z X**: पहला qubit Z-basis, दूसरा qubit X-basis में measure करना  \n",
    "- **X Z**: पहला qubit X-basis, दूसरा qubit Z-basis में measure करना  \n",
    "- **X X**: दोनों qubits को X-basis में measure करना  \n",
    "\n",
    "इन observables से हमें  \n",
    "⟨ Z Z ⟩, ⟨ Z X ⟩, ⟨ X Z ⟩, और ⟨ X X ⟩  \n",
    "की values मिलेंगी, जिनसे हम CHSH quantities ⟨S₁⟩ और ⟨S₂⟩ calculate करेंगे। 🚀\n"
   ]
  },
  {
   "cell_type": "code",
   "execution_count": 5,
   "id": "cd0d02d9",
   "metadata": {},
   "outputs": [],
   "source": [
    "# <CHSH1> = <AB> - <Ab> + <aB> + <ab> -> <ZZ> - <ZX> + <XZ> + <XX>\n",
    "observable1 = SparsePauliOp.from_list(\n",
    "    [(\"ZZ\", 1), (\"ZX\", -1), (\"XZ\", 1), (\"XX\", 1)]\n",
    ")\n",
    "\n",
    "# <CHSH2> =<AB> + <Ab> - <aB> + <ab> -> <ZZ> + <ZX> - <XZ> + <XX>\n",
    "observable2 = SparsePauliOp.from_list(\n",
    "    [(\"ZZ\", 1), (\"ZX\", 1), (\"XZ\", -1), (\"XX\", 1)]\n",
    ")"
   ]
  },
  {
   "cell_type": "markdown",
   "id": "07f25eae",
   "metadata": {},
   "source": [
    "## 🔧 Step 2: क्वांटम हार्डवेयर execution के लिए समस्या optimize करें (Optimize for Quantum Hardware execution)\n",
    "\n",
    "To reduce the total job execution time, V2 primitives only accept circuits and observables that conforms to the instructions and connectivity supported by the target system (referred to as instruction set architecture (ISA) circuits and observables).\n",
    "\n",
    "\n",
    "\n",
    "हर quantum hardware की अपनी ISA (Instruction Set Architecture) होती है — एक स्पेसिफिक gate-set और qubit coupling map। V2 primitives केवल उन circuits और observables को स्वीकार करते हैं जो इन ISA constraints को पूरा करते हों, ताकि job execution समय कम रहे और resource efficient compilation हो।\n",
    "\n",
    "ISA constraints:\n",
    "\n",
    "- Gate support  \n",
    "  target device पर उपलब्ध single-qubit और two-qubit gates (जैसे U, CNOT)\n",
    "\n",
    "- Qubit connectivity  \n",
    "  qubits के बीच coupling map और allowed CNOT directions\n",
    "\n",
    "- Measurement basis translations  \n",
    "  observables को hardware-native measurement settings में automatically बदलना\n",
    "\n",
    "इन optimizations से हमें मिलता है:  \n",
    "\n",
    "- तेज़ transpilation और reduced compilation time ⏱️  \n",
    "- hardware resources का बेहतर उपयोग 🔄  \n",
    "- execution latency और noise impact में कमी 🎯  \n",
    "\n",
    "\n",
    "### ISA Circuit"
   ]
  },
  {
   "cell_type": "code",
   "execution_count": 6,
   "id": "9ce5a545",
   "metadata": {},
   "outputs": [
    {
     "data": {
      "image/png": "[encoded data removed]",
      "text/plain": [
       "<Figure size 859.874x200.667 with 1 Axes>"
      ]
     },
     "execution_count": 6,
     "metadata": {},
     "output_type": "execute_result"
    }
   ],
   "source": [
    "target = backend.target\n",
    "pm = generate_preset_pass_manager(target=target, optimization_level=3)\n",
    "\n",
    "chsh_isa_circuit = pm.run(chsh_circuit)\n",
    "chsh_isa_circuit.draw(output=\"mpl\", idle_wires=False, style=\"iqp\")"
   ]
  },
  {
   "cell_type": "markdown",
   "id": "fd3d0fde",
   "metadata": {},
   "source": [
    "### 🔄 ISA Observables\n",
    "\n",
    "Similarly, we need to transform the observables to make it backend compatible before running jobs with *Runtime Estimator V2* . We can perform the transformation using the *apply_layout* the method of SparsePauliOp object.\n",
    "\n",
    "Runtime Estimator V2 से jobs चलाने से पहले observables को backend-compatible ISA format में transform करना ज़रूरी है।  \n",
    "\n",
    "SparsePauliOp object का apply_layout method qubit layout और coupling constraints के हिसाब से observables को re-map कर देता है।\n",
    "\n",
    "मुख्य steps:\n",
    "\n",
    "- observables को device-specific qubit ordering में map करना  \n",
    "- apply_layout से Pauli operators को सही qubit indices assign करना  \n",
    "- measurement basis translations और coupling-directions सुनिश्चित करना  \n",
    "\n",
    "इस transformation के बाद आप observables को सीधे target hardware पर चला सकते हैं—कोई manual re-mapping नहीं करनी पड़ेगी! 🚀  \n"
   ]
  },
  {
   "cell_type": "code",
   "execution_count": 7,
   "id": "42ac5985",
   "metadata": {},
   "outputs": [],
   "source": [
    "isa_observable1 = observable1.apply_layout(layout=chsh_isa_circuit.layout)\n",
    "isa_observable2 = observable2.apply_layout(layout=chsh_isa_circuit.layout)\n"
   ]
  },
  {
   "cell_type": "markdown",
   "id": "7ad629fd",
   "metadata": {},
   "source": [
    "## 🚀 Step 3: Qiskit primitives से Execution करें (Execute Using Qiskit Primitives)\n",
    "\n",
    "In order to execute the entire experiment in one call to the Estimator.\n",
    "We can create a Qiskit Runtime Estimator primitive to compute our expectation values. The EstimatorV2.run() method takes an iterable of primitive unified blocs \n",
    "(PUBs) . Each PUB is an iterable in the format (circuit, observables , parameter_values: Optional, precision:Optional) .\n",
    "\n",
    "अब हम पूरे experiment को एक ही Estimator कॉल में execute करेंगे! 🎯 इसके लिए हम बनाएँगे एक **Qiskit Runtime Estimator primitive** जो expectation values को directly compute करता है।\n",
    "\n",
    "### 📦 EstimatorV2 का उपयोग (Using EstimatorV2)\n",
    "\n",
    "EstimatorV2 का `.run()` method एक iterable लेता है जिसे कहते हैं **Primitive Unified Blocs (PUBs)**.\n",
    "\n",
    "हर PUB इस format में होता है:\n",
    "\n",
    "```text\n",
    "(circuit, observables, parameter_values (optional), precision (optional))\n",
    "\n",
    "circuit: हमारा parameterized CHSH quantum circuit\n",
    "\n",
    "observables: जो हमने backend-compatible बनाकर transform किए थे\n",
    "\n",
    "parameter_values: θ के लिए phase values (जैसे 0, 0.1π … 2π)\n",
    "\n",
    "precision: optional parameter, जिससे results की statistical accuracy तय होती है\n",
    "\n",
    "Estimator primitive backend की ISA को ध्यान में रखते हुए circuits को run करता है और observables की expectation values तुरंत उपलब्ध करा देता है—बिना extra measurements या classical postprocessing के। 🔍\n",
    "\n",
    "अब हम तैयार हैं circuit को execute करने, Estimator के जादू से expectation values निकालने, और CHSH violation को graphically analyze करने! 🌈\n"
   ]
  },
  {
   "cell_type": "code",
   "execution_count": 8,
   "id": "1b5d985e",
   "metadata": {},
   "outputs": [],
   "source": [
    "# To run on a local simulator:\n",
    "# Use the StatevectorEstimator from qiskit.primitives instead.\n",
    "\n",
    "estimator = Estimator(mode=backend)\n",
    "\n",
    "pub = (\n",
    "    chsh_isa_circuit, # ISA circuit\n",
    "    [[isa_observable1], [isa_observable2]], # ISA observables\n",
    "    individual_phases, # Parameter values\n",
    ")\n",
    "\n",
    "job_result = estimator.run(pubs=[pub]).result()\n"
   ]
  },
  {
   "cell_type": "markdown",
   "id": "361f3dd5",
   "metadata": {},
   "source": [
    "## 📊 Step 4: Classical Format में Result को Post-process करें (Post-process and return result in desired classical format)\n",
    "\n",
    "The estimator rerurns expectation values for both of the observables,\n",
    "\n",
    "अब जब Estimator ने observables के लिए expectation values दे दी हैं, हम उन्हें classical format में convert करेंगे जिससे CHSH quantities की गणना की जा सके।\n",
    "\n",
    "Estimator हमें निम्न दो expressions के लिए values देता है:\n",
    "\n",
    "$$\n",
    "\\langle ZZ \\rangle - \\langle ZX \\rangle + \\langle XZ \\rangle + \\langle XX \\rangle and \\langle ZZ \\rangle + \\langle ZX \\rangle - \\langle XZ \\rangle + \\langle XX \\rangle\n",
    "\n",
    "$$\n",
    "इन दोनों expressions से हम यह verify कर सकते हैं कि क्या:\n",
    "\n",
    "⟨S₁⟩ > 2 या\n",
    "\n",
    "⟨S₂⟩ > 2\n",
    "\n",
    "📈 अगर ऐसा होता है, तो CHSH inequality का violation साबित हो जाता है—यानी quantum mechanics local hidden-variable theories से मेल नहीं खाती।\n",
    "\n",
    "---\n",
    "अब हम इन results को phase angle के against plot करके graphically analyze करेंगे—तैयार हो जाइए quantum स्पेस में थोड़ा classical magic देखने के लिए! ✨🔍\n"
   ]
  },
  {
   "cell_type": "code",
   "execution_count": 9,
   "id": "5d1edeb1",
   "metadata": {},
   "outputs": [
    {
     "data": {
      "image/png": "[encoded data removed]",
      "text/plain": [
       "<Figure size 1000x600 with 1 Axes>"
      ]
     },
     "metadata": {},
     "output_type": "display_data"
    }
   ],
   "source": [
    "chsh1_est = job_result[0].data.evs[0]\n",
    "chsh2_est = job_result[0].data.evs[1]\n",
    "\n",
    "fig, ax = plt.subplots(figsize=(10, 6))\n",
    "\n",
    "# results from hardware\n",
    "ax.plot(phases / np.pi, chsh1_est, \"o-\", label=\"CHSH1\", zorder=3)\n",
    "ax.plot(phases / np.pi, chsh2_est, \"o-\", label=\"CHSH2\", zorder=3)\n",
    "\n",
    "# classical bound +- 2\n",
    "ax.axhline(y=2, color=\"0.8\", linestyle=\"--\")\n",
    "ax.axhline(y=-2, color=\"0.9\", linestyle=\"--\")\n",
    "\n",
    "# quantum bound, +-2√2\n",
    "ax.axhline(y=np.sqrt(2) * 2, color=\"0.9\", linestyle=\"-.\")\n",
    "ax.axhline(y=-np.sqrt(2) * 2, color=\"0.9\", linestyle=\"-.\")\n",
    "ax.fill_between(phases / np.pi, 2, 2 * np.sqrt(2), color=\"0.6\", alpha=0.7)\n",
    "ax.fill_between(phases / np.pi, -2, -2 * np.sqrt(2), color=\"0.6\", alpha=0.7)\n",
    "\n",
    "# set labels, and legend\n",
    "plt.xlabel(\"Theta\")\n",
    "plt.ylabel(\"CHSH witness\")\n",
    "plt.legend()\n",
    "plt.show()\n"
   ]
  },
  {
   "cell_type": "markdown",
   "id": "dadad487",
   "metadata": {},
   "source": [
    "In the figure, the lines and gray areas delimit the bounds; the outer-most (dasho=dotted) lines delimit the quantum-bounds $ (\\plusmn 2) $, whereas the inner (dashed) lines delimit the classical bounds $(\\plusmn 2\\sqrt 2)$. We can see that there are regions where the CHSH witness quantities exceeds the classical bounds. \n",
    "Congratulations! We have successfully demonstrated the violation of CHSH inequality in a real quantum system!\n",
    "\n",
    "## 🎉 CHSH Violation Confirmed! (निष्कर्ष)\n",
    "\n",
    "इस figure में आप देख सकते हैं:\n",
    "\n",
    "- Outer-most dotted lines represent **Quantum bounds** \\((\\pm 2)\\)  \n",
    "- Inner dashed lines show **Classical bounds** \\((\\pm 2\\sqrt{2})\\)  \n",
    "- Gray shaded area → region between classical and quantum limits\n",
    "\n",
    "📈 कुछ जगहों पर CHSH witness quantity classical bounds से ऊपर जाती है — यानी:\n",
    "\n",
    "$$\n",
    "|\\langle S \\rangle| > 2\\sqrt{2}\n",
    "\n",
    "$$\n",
    "👉 इसका मतलब है कि हमने classical physics की limitations को पार कर लिया है — और quantum mechanics की non-locality को live demonstrate किया है!\n",
    "\n",
    "🥳 बधाई हो! आपने सफलतापूर्वक CHSH inequality को violate किया — एक असली quantum hardware पर experiment करके!\n",
    "\n",
    "यह एक ज़बरदस्त achievement है, खासकर young learners के लिए जो quantum सोच को शुरू में समझने की कोशिश कर रहे हैं।\n",
    "\n",
    "अब अगला कदम हो सकता है:\n",
    "\n",
    "Measurement noise का प्रभाव देखना\n",
    "\n",
    "Entanglement fidelity को evaluate करना\n",
    "\n",
    "और Bell’s theorem की deeper analogies explore करना\n",
    "\n",
    "Quantum विज्ञान अब सिर्फ किताबों की बात नहीं रही—आपने उसे हकीकत में जी लिया है। 🚀💫"
   ]
  }
 ],
 "metadata": {
  "kernelspec": {
   "display_name": "cwq",
   "language": "python",
   "name": "python3"
  },
  "language_info": {
   "codemirror_mode": {
    "name": "ipython",
    "version": 3
   },
   "file_extension": ".py",
   "mimetype": "text/x-python",
   "name": "python",
   "nbconvert_exporter": "python",
   "pygments_lexer": "ipython3",
   "version": "3.13.5"
  }
 },
 "nbformat": 4,
 "nbformat_minor": 5
}
