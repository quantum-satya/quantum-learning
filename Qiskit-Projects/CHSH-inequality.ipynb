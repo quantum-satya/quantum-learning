{
 "cells": [
  {
   "cell_type": "markdown",
   "id": "9dede001",
   "metadata": {},
   "source": [
    "# CHSH inequality\n",
    "\n",
    "-------\n",
    "## Background\n",
    "\n",
    "In this tutorial, we'll run an experiment on a quantum computer to demonstrate the violation of the CHSH inequality with the Estimator primitive.\n",
    "\n",
    "The CHSH inequality, named after the arthors Clauser, Home, Shimony, and Holt, is used to experimentally prove Bell's theorem (1969). This theorem asserts that local hidden variable in quantum mechanics. The violation of the CHSH inequality is used to show that quantum mechanics is incompatible with local hidden-variable theories. This is an important experment for understanding the foundation of quantum mechanics. \n",
    "\n",
    "The 2022 Nobel Prize for Physics was awarded to Alain Aspect, John Clauser and Anton Zeilinger in part for their pioneering work in quantum information science, and in particular, for their experiments woth entangled photons demonstrating violation of Bell's inequalties.\n",
    "\n",
    "***\n",
    "\n",
    "## Requirements\n",
    "\n",
    "* Qiskit SDK 1.X or more\n",
    "* Qiskit Runtime (pip install qiskit-ibm-runtime) 0.22 or later\n",
    "* Visulization suppport ('qiskit[visualization'])\n",
    "  \n",
    "  ****\n",
    "\n",
    "  ## Setup\n",
    "  \n",
    "\n"
   ]
  },
  {
   "cell_type": "code",
   "execution_count": 5,
   "id": "bf1070f4",
   "metadata": {},
   "outputs": [],
   "source": [
    "# General\n",
    "import numpy as np\n",
    "\n",
    "# Qiskit imports\n",
    "from qiskit import QuantumCircuit\n",
    "from qiskit.circuit import Parameter\n",
    "from qiskit.quantum_info import SparsePauliOp\n",
    "from qiskit.transpiler.preset_passmanagers import generate_preset_pass_manager\n",
    "\n",
    "# Qiskit Runtime imports\n",
    "from qiskit_ibm_runtime import QiskitRuntimeService\n",
    "from qiskit_ibm_runtime import EstimatorV2 as Estimator\n",
    "\n",
    "# Plotting routines\n",
    "import matplotlib.pyplot as plt\n",
    "import matplotlib.ticker as tck"
   ]
  },
  {
   "cell_type": "markdown",
   "id": "ee5ef5f3",
   "metadata": {},
   "source": [
    "### Step 1: Map classical inputs to a quantum problem\n",
    "\n",
    "For this experiment, we will create an entangled pair on which we measure each qubit on two different bases. We will label the bases for the first qubit A and a and the bases for the second qubit B and b. This allows us to compute the CHSH quantity S<sub>1</sub>:\n",
    "\n",
    "S<sub>1</sub> = A(B - b) + a(B + b).\n",
    "\n",
    "Each observable is either +1 or -1. Clearly, one of the terms B &plusmn; b must be 0, and the other must be &plusmn;2. Therefore, S<sub>1</sub>=&plusmn2. The average value of S<sub>1</sub> must satisfy the inequality:\n",
    "$$\n",
    "|\\langle S_1 \\rangle| \\leq 2\n",
    "$$\n",
    "\n",
    "Expanding S<sub>1</sub> in terms of A, a, B, and b results in:\n",
    "\n",
    "$$\n",
    "|\\langle S_1 \\rangle| = |\\langle AB \\rangle - \\langle Ab \\rangle + \\langle aB \\rangle + \\langle ab \\rangle| \\leq 2\n",
    "\n",
    "$$\n",
    "\n",
    "You can define another CHSH quantity S<sub>2</sub> :\n",
    "\n",
    "$$ S_2 = A(B + b) - a(B - b) , $$ \n",
    "\n",
    "This leads to another inequality:\n",
    "\n",
    "$$\n",
    "|\\langle S_2 \\rangle| = |\\langle AB \\rangle + \\langle Ab \\rangle - \\langle aB \\rangle + \\langle ab \\rangle | \\leq 2\n",
    "$$\n",
    "\n",
    "If quantum mechanics can be described by local hidden variable thiories, the previous inequalities must hold true. However, as is demonstrated in this notebook, these inequalities can be violated in a quantum computer. Therefore, quantum mechanics is not compatible with local hidden variable theories.\n",
    "\n",
    "We'll create an entangled pair between two qubits in a quantum computer by creating the Bell state \n",
    "$$\n",
    "|\\Phi^+\\rangle = \\frac{|00\\rangle + |11\\rangle}{\\sqrt{2}}\n",
    "$$\n",
    "\n",
    "Using the Estimator primitive, we can directly obtain the expectation values needed\n",
    "\n",
    "($\\langle AB \\rangle$, $\\langle Ab \\rangle$, $\\langle aB \\rangle$, and $\\langle ab \\rangle$) to calculate the expectation values of the two CHSH quantities\n",
    "($\\langle S_1 \\rangle$ and $\\langle S_2 \\rangle$).\n",
    "Before the introduction of the Estimator primitive, we would have to construct the expection values from the measurement outcomes.\n",
    "\n",
    "We'll measure the second qubit in Z and X bases. The first qubit will be measured also in orthogonal bases, bur with and angle with respect to the second qubit, which we are going to sweep between 0 and $ 2\\pi $. As we'll see, the Estimator primitive makes running parameterized circuits very easy. Rather than creating a series of CHSH circuits, we only need to create one CHSH circuit with a parameter specifying the measurement angle and a series of phase values for the parameter.\n",
    "\n",
    "Finally, we'll analyze the results and plot them against the measurement angle. We'll see that for certain range of measurement angles, the expaction values of CHSH quantities $ |\\langle S_1 \\rangle | \\gt 2 $ or $ |\\langle S_2 \\rangle | \\gt 2$,\n",
    "which demonstrate the violation of the CHSH inequality.\n",
    "\n",
    "\n",
    "\n",
    "\n",
    "\n"
   ]
  },
  {
   "cell_type": "code",
   "execution_count": 10,
   "id": "97b3f3bf",
   "metadata": {},
   "outputs": [
    {
     "name": "stdout",
     "output_type": "stream",
     "text": [
      "[<IBMBackend('ibm_brisbane')>, <IBMBackend('ibm_sherbrooke')>, <IBMBackend('ibm_torino')>]\n"
     ]
    },
    {
     "data": {
      "text/plain": [
       "'ibm_torino'"
      ]
     },
     "execution_count": 10,
     "metadata": {},
     "output_type": "execute_result"
    }
   ],
   "source": [
    "# To run of hardware, select the backend woth the fewest number of jobs in the queue\n",
    "from qiskit_ibm_runtime import QiskitRuntimeService\n",
    "service = QiskitRuntimeService(channel=\"ibm_cloud\")\n",
    "\n",
    "QiskitRuntimeService.save_account(\n",
    "    channel=\"ibm_cloud\",\n",
    "    token=\"QDcOPHdQw2So98jLrsy7gjR-hnNa6oPDZ4sPHV0bxBW1\",\n",
    "    instance=\"instance_satya\",\n",
    "    overwrite=True\n",
    ")\n",
    "\n",
    "\n",
    "print(service.backends())\n",
    "\n",
    "backend = service.least_busy(\n",
    "    operational = True, simulator = False, min_num_qubits=127 \n",
    ")\n",
    "backend.name"
   ]
  },
  {
   "cell_type": "markdown",
   "id": "e2d13745",
   "metadata": {},
   "source": [
    "### Create a parameterized CHSH circuit\n",
    "\n",
    "First, we write the circuit with the parameter $\\theta$, which we call *theta*. The Estimator primitive can enormously simplify circuit building and output analysis by directly providing expectation values of observables. Many problems of interest, especially for near-term applications on noisy systems, can be formulated in terms of exoectation values. Estimator (V2) primitive can automatically chabge measurement basis based on the supplied observable."
   ]
  },
  {
   "cell_type": "code",
   "execution_count": 6,
   "id": "6eb1430b",
   "metadata": {},
   "outputs": [
    {
     "data": {
      "image/png": "[encoded data removed]",
      "text/plain": [
       "<Figure size 370.906x200.667 with 1 Axes>"
      ]
     },
     "execution_count": 6,
     "metadata": {},
     "output_type": "execute_result"
    }
   ],
   "source": [
    "theta = Parameter(\"$\\\\theta$\")\n",
    "\n",
    "chsh_circuit = QuantumCircuit(2)\n",
    "chsh_circuit.h(0)\n",
    "chsh_circuit.cx(0, 1)\n",
    "chsh_circuit.ry(theta, 0)\n",
    "chsh_circuit.draw(output=\"mpl\", idle_wires=False, style=\"iqp\")\n"
   ]
  },
  {
   "cell_type": "markdown",
   "id": "3662c155",
   "metadata": {},
   "source": [
    "### Create a list of phase values to be assigned later\n",
    "\n",
    "After creating the parameterized CHSH circuit, we'll creat a list of phase values to be assigned to the circuit in the next step. We can use the following code to create a list of 21 phase values range from 0 to 2 $\\pi$ with equal spacing, that is, $0, 0.1\\pi, 0.2\\pi, ....,1.9\\pi, 2\\pi$. "
   ]
  },
  {
   "cell_type": "code",
   "execution_count": 7,
   "id": "fcf0650d",
   "metadata": {},
   "outputs": [],
   "source": [
    "number_of_phases = 21\n",
    "phases = np.linspace(0, 2 * np.pi, number_of_phases)\n",
    "# Phases need to be expressed as list of lists in order\n",
    "individual_phases = [[ph] for ph in phases]"
   ]
  },
  {
   "cell_type": "markdown",
   "id": "29862448",
   "metadata": {},
   "source": [
    "### Observables\n",
    "\n",
    "Now we need observables from which to compute the expectation values. In our case we are looking at orthogonal bases for each qubit, letting the parameterized Y- rotation for the first qubit sweep the measurement basis nearly continuously with respect to the second qubit basis. We will therefore choose the observables ZZ, ZX, XZ, and XX.\n"
   ]
  },
  {
   "cell_type": "code",
   "execution_count": 8,
   "id": "cd0d02d9",
   "metadata": {},
   "outputs": [],
   "source": [
    "# <CHSH1> = <AB> - <Ab> + <aB> + <ab> -> <ZZ> - <ZX> + <XZ> + <XX>\n",
    "observable1 = SparsePauliOp.from_list(\n",
    "    [(\"ZZ\", 1), (\"ZX\", -1), (\"XZ\", 1), (\"XX\", 1)]\n",
    ")\n",
    "\n",
    "# <CHSH2> =<AB> + <Ab> - <aB> + <ab> -> <ZZ> + <ZX> - <XZ> + <XX>\n",
    "observable2 = SparsePauliOp.from_list(\n",
    "    [(\"ZZ\", 1), (\"ZX\", 1), (\"XZ\", -1), (\"XX\", 1)]\n",
    ")"
   ]
  },
  {
   "cell_type": "markdown",
   "id": "07f25eae",
   "metadata": {},
   "source": [
    "## Step 2: Optimize problem for quantum hardware execution\n",
    "\n",
    "To reduce the total job execution time, V2 primitives only accept circuits and observables that conforms to the instructions and connectivity supported by the target system (referred to as instruction set architecture (ISA) circuits and observables).\n",
    "\n",
    "### ISA Circuit"
   ]
  },
  {
   "cell_type": "code",
   "execution_count": 11,
   "id": "9ce5a545",
   "metadata": {},
   "outputs": [
    {
     "data": {
      "image/png": "[encoded data removed]",
      "text/plain": [
       "<Figure size 859.672x200.667 with 1 Axes>"
      ]
     },
     "execution_count": 11,
     "metadata": {},
     "output_type": "execute_result"
    }
   ],
   "source": [
    "target = backend.target\n",
    "pm = generate_preset_pass_manager(target=target, optimization_level=3)\n",
    "\n",
    "chsh_isa_circuit = pm.run(chsh_circuit)\n",
    "chsh_isa_circuit.draw(output=\"mpl\", idle_wires=False, style=\"iqp\")"
   ]
  }
 ],
 "metadata": {
  "kernelspec": {
   "display_name": "cwq",
   "language": "python",
   "name": "python3"
  },
  "language_info": {
   "codemirror_mode": {
    "name": "ipython",
    "version": 3
   },
   "file_extension": ".py",
   "mimetype": "text/x-python",
   "name": "python",
   "nbconvert_exporter": "python",
   "pygments_lexer": "ipython3",
   "version": "3.13.5"
  }
 },
 "nbformat": 4,
 "nbformat_minor": 5
}
