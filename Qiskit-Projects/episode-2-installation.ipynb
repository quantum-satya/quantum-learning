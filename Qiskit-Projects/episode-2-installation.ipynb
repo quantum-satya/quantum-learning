{
 "cells": [
  {
   "cell_type": "code",
   "execution_count": 1,
   "id": "2f8d7281",
   "metadata": {},
   "outputs": [],
   "source": [
    "import qiskit\n",
    "import qiskit_ibm_runtime"
   ]
  },
  {
   "cell_type": "code",
   "execution_count": 2,
   "id": "31ade08d",
   "metadata": {},
   "outputs": [
    {
     "data": {
      "text/plain": [
       "'2.1.0'"
      ]
     },
     "execution_count": 2,
     "metadata": {},
     "output_type": "execute_result"
    }
   ],
   "source": [
    "qiskit.__version__\n"
   ]
  },
  {
   "cell_type": "code",
   "execution_count": 3,
   "id": "f54c2db8",
   "metadata": {},
   "outputs": [
    {
     "data": {
      "text/plain": [
       "'0.40.1'"
      ]
     },
     "execution_count": 3,
     "metadata": {},
     "output_type": "execute_result"
    }
   ],
   "source": [
    "qiskit_ibm_runtime.__version__"
   ]
  },
  {
   "cell_type": "code",
   "execution_count": null,
   "id": "5217dc55",
   "metadata": {},
   "outputs": [
    {
     "name": "stdout",
     "output_type": "stream",
     "text": [
      "[<IBMBackend('ibm_brisbane')>, <IBMBackend('ibm_sherbrooke')>, <IBMBackend('ibm_torino')>]\n",
      "Using backend: ibm_sherbrooke\n"
     ]
    }
   ],
   "source": [
    "#   QDcOPHdQw2So98jLrsy7gjR-hnNa6oPDZ4sPHV0bxBW1\n",
    "#   QDcOPHdQw2So98jLrsy7gjR-hnNa6oPDZ4sPHV0bxBW1\n",
    "from qiskit_ibm_runtime import QiskitRuntimeService \n",
    "# QiskitRuntimeService.delete_account()\n",
    "QiskitRuntimeService.save_account(\n",
    "    channel=\"ibm_cloud\",\n",
    "    token=\"QDcOPHdQw2So98jLrsy7gjR-hnNa6oPDZ4sPHV0bxBW1\",\n",
    "    instance=\"instance_satya\",\n",
    "    overwrite=True\n",
    ")\n",
    "\n",
    "service = QiskitRuntimeService(channel=\"ibm_cloud\")\n",
    "print(service.backends())\n",
    "\n",
    "backend = service.least_busy(simulator=False, operational=True)\n",
    "print(f\"Using backend: {backend.name}\")"
   ]
  },
  {
   "cell_type": "code",
   "execution_count": 14,
   "id": "f2e26c1b",
   "metadata": {},
   "outputs": [
    {
     "name": "stdout",
     "output_type": "stream",
     "text": [
      "backend.num_qubits: 127\n"
     ]
    },
    {
     "data": {
      "text/plain": [
       "[Instruction(name='id', num_qubits=1, num_clbits=0, params=[]),\n",
       " Instruction(name='sx', num_qubits=1, num_clbits=0, params=[]),\n",
       " Instruction(name='rz', num_qubits=1, num_clbits=0, params=[Parameter(λ)]),\n",
       " qiskit.circuit.controlflow.for_loop.ForLoopOp,\n",
       " Instruction(name='x', num_qubits=1, num_clbits=0, params=[]),\n",
       " qiskit.circuit.controlflow.switch_case.SwitchCaseOp,\n",
       " Instruction(name='measure', num_qubits=1, num_clbits=1, params=[]),\n",
       " Instruction(name='reset', num_qubits=1, num_clbits=0, params=[]),\n",
       " Instruction(name='ecr', num_qubits=2, num_clbits=0, params=[]),\n",
       " Delay(duration=t[unit=dt]),\n",
       " qiskit.circuit.controlflow.if_else.IfElseOp]"
      ]
     },
     "execution_count": 14,
     "metadata": {},
     "output_type": "execute_result"
    }
   ],
   "source": [
    "print(f\"backend.num_qubits: {backend.num_qubits}\")\n",
    "backend.operation_names\n",
    "backend.operations"
   ]
  }
 ],
 "metadata": {
  "kernelspec": {
   "display_name": "cwq",
   "language": "python",
   "name": "python3"
  },
  "language_info": {
   "codemirror_mode": {
    "name": "ipython",
    "version": 3
   },
   "file_extension": ".py",
   "mimetype": "text/x-python",
   "name": "python",
   "nbconvert_exporter": "python",
   "pygments_lexer": "ipython3",
   "version": "3.13.5"
  }
 },
 "nbformat": 4,
 "nbformat_minor": 5
}
