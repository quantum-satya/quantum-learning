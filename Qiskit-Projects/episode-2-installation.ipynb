{
 "cells": [
  {
   "cell_type": "code",
   "execution_count": 6,
   "id": "2f8d7281",
   "metadata": {},
   "outputs": [],
   "source": [
    "import qiskit\n",
    "import qiskit_ibm_runtime"
   ]
  },
  {
   "cell_type": "code",
   "execution_count": 7,
   "id": "31ade08d",
   "metadata": {},
   "outputs": [
    {
     "data": {
      "text/plain": [
       "'2.1.0'"
      ]
     },
     "execution_count": 7,
     "metadata": {},
     "output_type": "execute_result"
    }
   ],
   "source": [
    "qiskit.__version__\n"
   ]
  },
  {
   "cell_type": "code",
   "execution_count": 8,
   "id": "f54c2db8",
   "metadata": {},
   "outputs": [
    {
     "data": {
      "text/plain": [
       "'0.40.1'"
      ]
     },
     "execution_count": 8,
     "metadata": {},
     "output_type": "execute_result"
    }
   ],
   "source": [
    "qiskit_ibm_runtime.__version__"
   ]
  },
  {
   "cell_type": "code",
   "execution_count": 11,
   "id": "5217dc55",
   "metadata": {},
   "outputs": [
    {
     "name": "stderr",
     "output_type": "stream",
     "text": [
      "/var/folders/4z/26qvd6sn2q3349675r3f8qh80000gp/T/ipykernel_2914/4288599072.py:3: DeprecationWarning: The \"ibm_quantum\" channel option is deprecated and will be sunset on 1 July. After this date, \"ibm_cloud\", \"ibm_quantum_platform\", and \"local\" will be the only valid channels. Open Plan users should migrate now.  All other users should review the migration guide (https://quantum.cloud.ibm.com/docs/migration-guides/classic-iqp-to-cloud-iqp)to learn when to migrate.\n",
      "  service = QiskitRuntimeService(channel=\"ibm_quantum\", token='34ffb67c147f26dbe555593df5c66252a799c8b33612a7327afa547959b0c3983b4e7b51ff15029443a96f2d8be198ce5e466a2e10d9745cfb6d0c0f84eae108')\n"
     ]
    }
   ],
   "source": [
    "from qiskit_ibm_runtime import QiskitRuntimeService\n",
    "\n",
    "service = QiskitRuntimeService(channel=\"ibm_quantum\", token='34ffb67c147f26dbe555593df5c66252a799c8b33612a7327afa547959b0c3983b4e7b51ff15029443a96f2d8be198ce5e466a2e10d9745cfb6d0c0f84eae108')   \n"
   ]
  },
  {
   "cell_type": "code",
   "execution_count": 12,
   "id": "45a21e96",
   "metadata": {},
   "outputs": [],
   "source": [
    "QiskitRuntimeService.save_account(\n",
    "    channel=\"ibm_quantum\",\n",
    "    token='34ffb67c147f26dbe555593df5c66252a799c8b33612a7327afa547959b0c3983b4e7b51ff15029443a96f2d8be198ce5e466a2e10d9745cfb6d0c0f84eae108')"
   ]
  },
  {
   "cell_type": "code",
   "execution_count": 13,
   "id": "42e90eba",
   "metadata": {},
   "outputs": [],
   "source": [
    "backend = service.backend(name=\"ibm_brisbane\")"
   ]
  },
  {
   "cell_type": "code",
   "execution_count": 1,
   "id": "f2e26c1b",
   "metadata": {},
   "outputs": [
    {
     "ename": "NameError",
     "evalue": "name 'backend' is not defined",
     "output_type": "error",
     "traceback": [
      "\u001b[31m---------------------------------------------------------------------------\u001b[39m",
      "\u001b[31mNameError\u001b[39m                                 Traceback (most recent call last)",
      "\u001b[36mCell\u001b[39m\u001b[36m \u001b[39m\u001b[32mIn[1]\u001b[39m\u001b[32m, line 1\u001b[39m\n\u001b[32m----> \u001b[39m\u001b[32m1\u001b[39m \u001b[43mbackend\u001b[49m.num_qubits\n",
      "\u001b[31mNameError\u001b[39m: name 'backend' is not defined"
     ]
    }
   ],
   "source": [
    "backend.num_qubits"
   ]
  }
 ],
 "metadata": {
  "kernelspec": {
   "display_name": "cwq",
   "language": "python",
   "name": "python3"
  },
  "language_info": {
   "codemirror_mode": {
    "name": "ipython",
    "version": 3
   },
   "file_extension": ".py",
   "mimetype": "text/x-python",
   "name": "python",
   "nbconvert_exporter": "python",
   "pygments_lexer": "ipython3",
   "version": "3.13.5"
  }
 },
 "nbformat": 4,
 "nbformat_minor": 5
}
