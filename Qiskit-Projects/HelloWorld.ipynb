{
 "cells": [
  {
   "cell_type": "markdown",
   "id": "173232b3",
   "metadata": {},
   "source": [
    "# Hello World "
   ]
  },
  {
   "cell_type": "markdown",
   "id": "23f4ae1a",
   "metadata": {},
   "source": [
    "### The code on this page was developed using the following requirements. \n",
    "### We recommend using these versions or newer.\n",
    "\n",
    "qiskit[all]~=2.0.0  \n",
    "qiskit-ibm-runtime~=0.37.0\n",
    "\n",
    "---\n",
    "\n",
    "This example contains two parts. You will first create a simple quantum program <br> and run it on a quantum processing unit (QPU).\n",
    "Because actual quantum research requires much more robust programs, in the second section (Scale to large numbers of qubits), you will cale the simple program uo to utility level."
   ]
  },
  {
   "cell_type": "markdown",
   "id": "85966e92",
   "metadata": {},
   "source": [
    "## Step 1. Map the problem to a quantum native format\n",
    "In a quantum program, *quantum circuits* are the native format in which to represent quantum instructions, and *operators* represent the   observables to be measured. When creating a circuit, you'll usrally create a new QuantumCircuit   object, then add instructions to it in sequence.\n",
    "\n",
    "The following code cell creates a circuit that produces a Bell state, which is a state wherein two qubits are fully entangled with each other.\n",
    "\n",
    "The Qiskit SDK uses the LSb 0 bit numbering where the n<sup>th</sup> digit has value **1** << n or **2**<sup>n</sup>.  \n"
   ]
  },
  {
   "cell_type": "code",
   "execution_count": 1,
   "id": "972b2d5f",
   "metadata": {},
   "outputs": [
    {
     "data": {
      "image/png": "[encoded data removed]",
      "text/plain": [
       "<Figure size 287.294x200.667 with 1 Axes>"
      ]
     },
     "execution_count": 1,
     "metadata": {},
     "output_type": "execute_result"
    }
   ],
   "source": [
    "from IPython.display import clear_output\n",
    "\n",
    "from qiskit import QuantumCircuit\n",
    "from qiskit.quantum_info import SparsePauliOp\n",
    "from qiskit.transpiler import generate_preset_pass_manager\n",
    "from qiskit_ibm_runtime import EstimatorV2 as Estimator\n",
    "\n",
    "# Creaete a new circuit woth two qubits\n",
    "qc=QuantumCircuit(2)\n",
    "\n",
    "#Add a Hadamard gate to qubit 0\n",
    "qc.h(0)  \n",
    "\n",
    "# Perform a controlled-X gate on qubit 1, controlled by qubit 0\n",
    "qc.cx(0, 1)  \n",
    "\n",
    "# Return a drawing of the circuit using MatPlotLib (\"mpl\").\n",
    "# These guides are written by using Jupyter notebooks, which display the \n",
    "# output of the last line of each cell. If you're running this in a script, use \n",
    "# `print(qc.draw())` to print a text drawing.\n",
    "qc.draw(output='mpl') \n",
    "\n",
    "\n"
   ]
  },
  {
   "cell_type": "markdown",
   "id": "579f4fa7",
   "metadata": {},
   "source": [
    "This example measures expectation values by using the *qiskit.quantum_info submodule,  which is specified by using operators (mathematical objects used to represent an action or process that changes a quantum state). The following code cell creates six two-qubit Pauli operators: IZ, IX , ZI , XI, ZZ and XX.\n"
   ]
  },
  {
   "cell_type": "code",
   "execution_count": 2,
   "id": "9bf97b95",
   "metadata": {},
   "outputs": [],
   "source": [
    "# Set up six different observables.\n",
    "\n",
    "observables_labels = [\"IZ\", \"IX\", \"ZI\", \"XI\", \"ZZ\", \"XX\"]\n",
    "observables = [SparsePauliOp (label) for label in observables_labels]\n",
    "                      \n",
    "\n"
   ]
  },
  {
   "cell_type": "markdown",
   "id": "2d65b087",
   "metadata": {},
   "source": [
    "# Step 2. Optimize the circuits and operators\n",
    "When executing circuits on a device, it is important to optimize the  \n",
    "set of instructions that the circuit contains and minimize the overall depth  \n",
    "(roughly the number of instructions) of the circuit. This ensures that you obtain  \n",
    "the best results possible by reducing the effects of error and noise.  \n",
    "Additionally, the circuit's instructions must conform to a backend device's   \n",
    "*Instruction Set Architecture (ISA)* and must consider the device's basis gates and qubit connectivity.  \n",
    "The following code instantiates a real device to submit a job to and transforms  \n",
    "the circuit and observables to match that backend's ISA.  \n",
    "The following code instantiates a real device to submit a job to and transforms the circuit and observables to match that backend's ISA. It requires that you have already saved your credentials."
   ]
  },
  {
   "cell_type": "code",
   "execution_count": 4,
   "id": "53a4568a",
   "metadata": {},
   "outputs": [
    {
     "name": "stdout",
     "output_type": "stream",
     "text": [
      "[<IBMBackend('ibm_brisbane')>, <IBMBackend('ibm_sherbrooke')>, <IBMBackend('ibm_torino')>]\n",
      "Using backend: ibm_sherbrooke\n"
     ]
    },
    {
     "data": {
      "image/png": "[encoded data removed]",
      "text/plain": [
       "<Figure size 757.83x200.667 with 1 Axes>"
      ]
     },
     "execution_count": 4,
     "metadata": {},
     "output_type": "execute_result"
    }
   ],
   "source": [
    "#.   QDcOPHdQw2So98jLrsy7gjR-hnNa6oPDZ4sPHV0bxBW1\n",
    "\n",
    "from qiskit_ibm_runtime import QiskitRuntimeService \n",
    "QiskitRuntimeService.delete_account()\n",
    "\n",
    "QiskitRuntimeService.save_account(\n",
    "    channel=\"ibm_cloud\",\n",
    "    token=\"QDcOPHdQw2So98jLrsy7gjR-hnNa6oPDZ4sPHV0bxBW1\",\n",
    "    instance=\"instance_satya\",\n",
    "    overwrite=True\n",
    ")\n",
    "\n",
    "service = QiskitRuntimeService(channel=\"ibm_cloud\")\n",
    "print(service.backends())\n",
    "\n",
    "backend = service.least_busy(simulator=False, operational=True)\n",
    "print(f\"Using backend: {backend.name}\")\n",
    "\n",
    "# Convert to an ISA circuit and layout-mapped observables.\n",
    "pm = generate_preset_pass_manager(backend=backend, optimization_level=1)\n",
    "isa_circuit = pm.run(qc)\n",
    "\n",
    "isa_circuit.draw(\"mpl\", idle_wires=False)\n",
    "# clear_output(wait=True)"
   ]
  },
  {
   "cell_type": "markdown",
   "id": "dc3b0572",
   "metadata": {},
   "source": [
    "# Step 3- Execute using the quantum primitives\n",
    "\n",
    "Quantum computers can produce random results, so you usually collect <br> a sample of the outputs by running the circuit many times. You can estimate the value of the observable by using the *Estimator* class. *Estimator* is one of two *primitives*; the other is *Sampler*, which can be used to get data from a quantum computer. These objects possess a run() method that executes the selection of circuits, observables, and parameters (if applicable), using a *primitive unified bloc (PUB).\n"
   ]
  },
  {
   "cell_type": "code",
   "execution_count": 6,
   "id": "90ce6f4b",
   "metadata": {},
   "outputs": [
    {
     "name": "stdout",
     "output_type": "stream",
     "text": [
      ">>> Job ID: d1oee7b3rr0s73bg6nd0\n"
     ]
    }
   ],
   "source": [
    "# Construct the Estimator instance.\n",
    "estimator = Estimator(mode=backend)\n",
    "estimator.options.resilience_level = 1\n",
    "estimator.options.default_shots = 5000\n",
    "\n",
    "mapped_observables = [\n",
    "    observable.apply_layout(isa_circuit.layout) for observable in observables\n",
    "]\n",
    "\n",
    "# One pub, with one circuit to run against five different observables.\n",
    "job = estimator.run([(isa_circuit, mapped_observables)])\n",
    "\n",
    "# Use the job ID to retrieve your job data later. \n",
    "print(f\">>> Job ID: {job.job_id()}\")\n",
    "\n",
    "\n"
   ]
  },
  {
   "cell_type": "markdown",
   "id": "ee722b4b",
   "metadata": {},
   "source": [
    "After the job completes, exampine its output through the job's *result* attribute."
   ]
  },
  {
   "cell_type": "code",
   "execution_count": 7,
   "id": "8d3147d3",
   "metadata": {},
   "outputs": [],
   "source": [
    "# This is the result of the entire submission. \n",
    "# You submitted one Pub, so this contains one inner result (and some matadata of its own).\n",
    "job_result = job.result()\n",
    "\n",
    "# This is the result from our single pub, which had six observables,\n",
    "# so contains information on all six.\n",
    "\n",
    "pub_result = job.result()[0]\n",
    "\n"
   ]
  },
  {
   "cell_type": "code",
   "execution_count": 11,
   "id": "c844cd75",
   "metadata": {},
   "outputs": [],
   "source": [
    "# Check there are six observables.\n",
    "# If not, edit the comments in the previous cell and update this test.\n",
    "assert len(pub_result.data.evs) == 6\n",
    "# Check the first observable is the one we expected.\n"
   ]
  },
  {
   "cell_type": "markdown",
   "id": "2ccb3b7a",
   "metadata": {},
   "source": [
    "When you run your quantum program on a real device, your workload must wait   \n",
    "in a queue before it runs. To save time, you can instead use the following code to \n",
    "run this small workload on the 'fake_provider' with the Qiskit Runtime local  \n",
    "testing mode. Note that this is only possible for a small circuit. When you scale up in the next section, you will need to use a real device."
   ]
  },
  {
   "cell_type": "code",
   "execution_count": 15,
   "id": "14d8c19c",
   "metadata": {},
   "outputs": [],
   "source": [
    "# Use the following code instead if you want to run on a simulator:\n",
    "\n",
    "from qiskit_ibm_runtime.fake_provider import FakeAlmadenV2\n",
    "backend = FakeAlmadenV2()\n",
    "estimator = Estimator(backend)\n",
    "\n",
    "# Convert to an ISA circuit and layout-mapped observables.\n",
    "\n",
    "pm = generate_preset_pass_manager(backend=backend, optimization_level=1)\n",
    "isa_circuit = pm.run(qc)\n",
    "mapped_observables = [\n",
    "    observable.apply_layout(isa_circuit.layout) for observable in observables\n",
    "]\n",
    "\n",
    "job = estimator.run([(isa_circuit, mapped_observables)])\n",
    "result = job.result()\n",
    "\n",
    "# This is the result of the entire submission.\n",
    "# You submitted one Pub, so this contains one inner result (and some matadata of its own).\n",
    "job_result = job.result()\n",
    "\n",
    "# This is the result from our single pub, which had five observables, \n",
    "# so contains information on all five.\n",
    "pub_result = job.result()[0]\n"
   ]
  },
  {
   "cell_type": "markdown",
   "id": "08ac0ded",
   "metadata": {},
   "source": [
    "# Step 4. Analyze the results\n",
    "The analyze step is typically where ou might postprocess your results using, for example, measurement error mitigation or zero noise extrapolation (ZNE).\n",
    "You night feed these results into another workflow for further analysis or prepare a plot of the key values and daa. In general, this step is specific to tour problem. For this example, plot each of the expectation values that were measured for our circuit.\n",
    "\n",
    "The expectation values and stadard deviations for the observables you specified to Estimator are accessed through the job result's *PubResult.data.evs and PubResult.data.stds attributes. To obtain the result from Sampler, use the PubResult.data.=meas.get_counts() function, which will return a dict of measurements in the form of bitstrings as keys and counts as their corresponding values. "
   ]
  },
  {
   "cell_type": "code",
   "execution_count": 16,
   "id": "0f0679a7",
   "metadata": {},
   "outputs": [
    {
     "data": {
      "image/png": "[encoded data removed]",
      "text/plain": [
       "<Figure size 640x480 with 1 Axes>"
      ]
     },
     "metadata": {},
     "output_type": "display_data"
    }
   ],
   "source": [
    "# Plot the results.\n",
    "\n",
    "from matplotlib import pyplot as plt\n",
    "\n",
    "values = pub_result.data.evs\n",
    "\n",
    "errors = pub_result.data.stds\n",
    "\n",
    "# plotting graph\n",
    "plt.plot(observables_labels, values, \"-o\")\n",
    "plt.xlabel(\"Observables\")\n",
    "plt.ylabel(\"Values\")\n",
    "plt.show()\n"
   ]
  },
  {
   "cell_type": "markdown",
   "id": "41409b99",
   "metadata": {},
   "source": [
    "Notice that for qubits 0 and 1, the independent expectation values of both X and Z\n",
    "  are 0, while the correlations (XX and ZZ) are 1. \n",
    "## This is a hallmark of quantum entanglement."
   ]
  }
 ],
 "metadata": {
  "kernelspec": {
   "display_name": "cwq",
   "language": "python",
   "name": "python3"
  },
  "language_info": {
   "codemirror_mode": {
    "name": "ipython",
    "version": 3
   },
   "file_extension": ".py",
   "mimetype": "text/x-python",
   "name": "python",
   "nbconvert_exporter": "python",
   "pygments_lexer": "ipython3",
   "version": "3.13.5"
  }
 },
 "nbformat": 4,
 "nbformat_minor": 5
}
