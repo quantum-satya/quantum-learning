#deutsch_algorithm.ipynb
test
